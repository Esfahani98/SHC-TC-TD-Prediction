{
 "cells": [
  {
   "cell_type": "code",
   "execution_count": 1,
   "metadata": {
    "colab": {
     "base_uri": "https://localhost:8080/"
    },
    "id": "naLFqv7hau0U",
    "outputId": "d4c2b8e8-c0c6-4a03-c97e-8218872ebd2d"
   },
   "outputs": [],
   "source": [
    "import pandas as pd\n",
    "import numpy as np\n",
    "from joblib import load"
   ]
  },
  {
   "cell_type": "code",
   "execution_count": 2,
   "metadata": {
    "colab": {
     "base_uri": "https://localhost:8080/",
     "height": 224
    },
    "id": "OluFe6-Oa2Ss",
    "outputId": "89bf0456-3326-41ae-84c5-bb9a247de29c"
   },
   "outputs": [
    {
     "data": {
      "text/html": [
       "<div>\n",
       "<style scoped>\n",
       "    .dataframe tbody tr th:only-of-type {\n",
       "        vertical-align: middle;\n",
       "    }\n",
       "\n",
       "    .dataframe tbody tr th {\n",
       "        vertical-align: top;\n",
       "    }\n",
       "\n",
       "    .dataframe thead th {\n",
       "        text-align: right;\n",
       "    }\n",
       "</style>\n",
       "<table border=\"1\" class=\"dataframe\">\n",
       "  <thead>\n",
       "    <tr style=\"text-align: right;\">\n",
       "      <th></th>\n",
       "      <th>RHOB_Bulk</th>\n",
       "      <th>VSH_Bulk</th>\n",
       "      <th>DT_Bulk</th>\n",
       "    </tr>\n",
       "  </thead>\n",
       "  <tbody>\n",
       "    <tr>\n",
       "      <th>0</th>\n",
       "      <td>2.5350</td>\n",
       "      <td>0.50</td>\n",
       "      <td>196.50</td>\n",
       "    </tr>\n",
       "    <tr>\n",
       "      <th>1</th>\n",
       "      <td>2.5235</td>\n",
       "      <td>0.55</td>\n",
       "      <td>197.95</td>\n",
       "    </tr>\n",
       "    <tr>\n",
       "      <th>2</th>\n",
       "      <td>2.5120</td>\n",
       "      <td>0.60</td>\n",
       "      <td>199.40</td>\n",
       "    </tr>\n",
       "    <tr>\n",
       "      <th>3</th>\n",
       "      <td>2.5005</td>\n",
       "      <td>0.65</td>\n",
       "      <td>200.85</td>\n",
       "    </tr>\n",
       "    <tr>\n",
       "      <th>4</th>\n",
       "      <td>2.4890</td>\n",
       "      <td>0.70</td>\n",
       "      <td>202.30</td>\n",
       "    </tr>\n",
       "  </tbody>\n",
       "</table>\n",
       "</div>"
      ],
      "text/plain": [
       "   RHOB_Bulk  VSH_Bulk  DT_Bulk\n",
       "0     2.5350      0.50   196.50\n",
       "1     2.5235      0.55   197.95\n",
       "2     2.5120      0.60   199.40\n",
       "3     2.5005      0.65   200.85\n",
       "4     2.4890      0.70   202.30"
      ]
     },
     "execution_count": 2,
     "metadata": {},
     "output_type": "execute_result"
    }
   ],
   "source": [
    "d = pd.read_csv('carbonate.csv').drop('Unnamed: 0', axis=1)\n",
    "d.head()"
   ]
  },
  {
   "cell_type": "code",
   "execution_count": 4,
   "metadata": {},
   "outputs": [],
   "source": [
    "model = load('27.joblib')"
   ]
  },
  {
   "cell_type": "code",
   "execution_count": 5,
   "metadata": {},
   "outputs": [
    {
     "data": {
      "text/plain": [
       "array([ 833.48816,  832.4364 ,  827.87805, ..., 3040.1155 , 3037.6882 ,\n",
       "       3036.599  ], dtype=float32)"
      ]
     },
     "execution_count": 5,
     "metadata": {},
     "output_type": "execute_result"
    }
   ],
   "source": [
    "PC_predicted = model.predict(d)\n",
    "PC_predicted"
   ]
  },
  {
   "cell_type": "code",
   "execution_count": null,
   "metadata": {},
   "outputs": [],
   "source": []
  }
 ],
 "metadata": {
  "accelerator": "GPU",
  "colab": {
   "collapsed_sections": [
    "-UUSIJ53bb71",
    "WoB9TsN-bh3c",
    "Ny9-K4BUcP28",
    "SmDbP9EopmQP",
    "XvhW1rX6q6u2",
    "dAfBugJyrEEx",
    "l2m4wS4_uvyJ",
    "Fia4jf1Ujy8s",
    "6nk8YUkRyb-v",
    "T-myGv65RaGA",
    "SMVFb6VBbGW3",
    "IB6nXZdeVq9q",
    "jGeLpvHEVviv",
    "LeJrDwj8VzYI"
   ],
   "provenance": []
  },
  "gpuClass": "premium",
  "kernelspec": {
   "display_name": "Python 3 (ipykernel)",
   "language": "python",
   "name": "python3"
  },
  "language_info": {
   "codemirror_mode": {
    "name": "ipython",
    "version": 3
   },
   "file_extension": ".py",
   "mimetype": "text/x-python",
   "name": "python",
   "nbconvert_exporter": "python",
   "pygments_lexer": "ipython3",
   "version": "3.9.12"
  },
  "vscode": {
   "interpreter": {
    "hash": "49cb93f377a7abe7414b7b0f21fb3017538004a126cf690fb524202736b7fb92"
   }
  }
 },
 "nbformat": 4,
 "nbformat_minor": 1
}
